{
 "cells": [
  {
   "cell_type": "code",
   "execution_count": 1,
   "id": "a0883598-4a12-420f-8274-a22c32bd8683",
   "metadata": {},
   "outputs": [],
   "source": [
    "import os\n",
    "from pyspark.sql import SparkSession\n",
    "from pyspark.sql.functions import spark_partition_id,col\n",
    "import util.config as conf\n",
    "from util.logger import Log4j\n",
    "from pyspark.sql import functions as f\n"
   ]
  },
  {
   "cell_type": "code",
   "execution_count": 2,
   "id": "3c0c669e-fb9e-4021-97a8-6b9f2ccc2d64",
   "metadata": {},
   "outputs": [
    {
     "name": "stdout",
     "output_type": "stream",
     "text": [
      "util_dir: /spark/08-source-and-sink/util\n"
     ]
    },
    {
     "name": "stderr",
     "output_type": "stream",
     "text": [
      "Setting default log level to \"WARN\".\n",
      "To adjust logging level use sc.setLogLevel(newLevel). For SparkR, use setLogLevel(newLevel).\n",
      "24/10/30 16:13:49 WARN NativeCodeLoader: Unable to load native-hadoop library for your platform... using builtin-java classes where applicable\n",
      "                                                                                \r"
     ]
    }
   ],
   "source": [
    "spark_conf = conf.get_spark_conf()\n",
    "spark = SparkSession.builder \\\n",
    "        .config(conf=spark_conf) \\\n",
    "        .getOrCreate()\n",
    "flight_time_df = spark.read.parquet(\"/data/source-and-sink/flight-time.parquet\")\n",
    "log = Log4j(spark)\n",
    "log.info(f\"Num Partitions before: {flight_time_df.rdd.getNumPartitions()}\")"
   ]
  },
  {
   "cell_type": "code",
   "execution_count": 3,
   "id": "23df70b6-ba4f-4082-9386-2833279fc954",
   "metadata": {},
   "outputs": [
    {
     "data": {
      "text/plain": [
       "2"
      ]
     },
     "execution_count": 3,
     "metadata": {},
     "output_type": "execute_result"
    }
   ],
   "source": [
    "flight_time_df.rdd.getNumPartitions()"
   ]
  },
  {
   "cell_type": "code",
   "execution_count": 10,
   "id": "a2f9dd94-54fb-4034-a6d6-438153be7c67",
   "metadata": {},
   "outputs": [
    {
     "name": "stdout",
     "output_type": "stream",
     "text": [
      "root\n",
      " |-- FL_DATE: date (nullable = true)\n",
      " |-- OP_CARRIER: string (nullable = true)\n",
      " |-- OP_CARRIER_FL_NUM: integer (nullable = true)\n",
      " |-- ORIGIN: string (nullable = true)\n",
      " |-- ORIGIN_CITY_NAME: string (nullable = true)\n",
      " |-- DEST: string (nullable = true)\n",
      " |-- DEST_CITY_NAME: string (nullable = true)\n",
      " |-- CRS_DEP_TIME: integer (nullable = true)\n",
      " |-- DEP_TIME: integer (nullable = true)\n",
      " |-- WHEELS_ON: integer (nullable = true)\n",
      " |-- TAXI_IN: integer (nullable = true)\n",
      " |-- CRS_ARR_TIME: integer (nullable = true)\n",
      " |-- ARR_TIME: integer (nullable = true)\n",
      " |-- CANCELLED: integer (nullable = true)\n",
      " |-- DISTANCE: integer (nullable = true)\n",
      " |-- YEAR: integer (nullable = true)\n",
      "\n"
     ]
    }
   ],
   "source": [
    "fligh_time_df = flight_time_df \\\n",
    ".withColumn('YEAR',f.year(f.to_date(col('FL_DATE'),'YYYY-MM-DD'))) \n",
    "fligh_time_df.printSchema()"
   ]
  },
  {
   "cell_type": "code",
   "execution_count": 16,
   "id": "ff4a8aac-4801-4eed-9f23-a4e5f0dde349",
   "metadata": {},
   "outputs": [
    {
     "name": "stdout",
     "output_type": "stream",
     "text": [
      "+----+--------------+----------+------+--------------------+---------+\n",
      "|DEST|DEST_CITY_NAME|   FL_DATE|ORIGIN|    ORIGIN_CITY_NAME|CANCELLED|\n",
      "+----+--------------+----------+------+--------------------+---------+\n",
      "| ATL|   Atlanta, GA|2000-01-31|   GSO|Greensboro/High P...|        1|\n",
      "| ATL|   Atlanta, GA|2000-01-31|   MIA|           Miami, FL|        1|\n",
      "| ATL|   Atlanta, GA|2000-01-31|   GSP|           Greer, SC|        1|\n",
      "| ATL|   Atlanta, GA|2000-01-31|   IAD|      Washington, DC|        1|\n",
      "| ATL|   Atlanta, GA|2000-01-31|   IAD|      Washington, DC|        1|\n",
      "| ATL|   Atlanta, GA|2000-01-31|   IAD|      Washington, DC|        1|\n",
      "| ATL|   Atlanta, GA|2000-01-31|   LGA|        New York, NY|        1|\n",
      "| ATL|   Atlanta, GA|2000-01-31|   LGA|        New York, NY|        1|\n",
      "| ATL|   Atlanta, GA|2000-01-31|   RDU|  Raleigh/Durham, NC|        1|\n",
      "| ATL|   Atlanta, GA|2000-01-31|   RIC|        Richmond, VA|        1|\n",
      "| ATL|   Atlanta, GA|2000-01-31|   RIC|        Richmond, VA|        1|\n",
      "| ATL|   Atlanta, GA|2000-01-31|   TLH|     Tallahassee, FL|        1|\n",
      "| ATL|   Atlanta, GA|2000-01-31|   BWI|       Baltimore, MD|        1|\n",
      "| ATL|   Atlanta, GA|2000-01-31|   BWI|       Baltimore, MD|        1|\n",
      "| ATL|   Atlanta, GA|2000-01-31|   CAE|        Columbia, SC|        1|\n",
      "| ATL|   Atlanta, GA|2000-01-31|   DFW|Dallas/Fort Worth...|        1|\n",
      "| ATL|   Atlanta, GA|2000-01-31|   EWR|          Newark, NJ|        1|\n",
      "| ATL|   Atlanta, GA|2000-01-31|   EWR|          Newark, NJ|        1|\n",
      "| ATL|   Atlanta, GA|2000-01-31|   ABE|Allentown/Bethleh...|        1|\n",
      "| ATL|   Atlanta, GA|2000-01-31|   ABQ|     Albuquerque, NM|        1|\n",
      "+----+--------------+----------+------+--------------------+---------+\n",
      "only showing top 20 rows\n",
      "\n"
     ]
    }
   ],
   "source": [
    "res_df = flight_time_df \\\n",
    "    .filter((col('CANCELLED') == 1) &  # So sánh với số nguyên\n",
    "            (col('DEST_CITY_NAME') == \"Atlanta, GA\")&\n",
    "           ((f.year(f.to_date(col('FL_DATE'),'YYYY-MM-DD')))==2000)) \\\n",
    "    .select('DEST', 'DEST_CITY_NAME', 'FL_DATE', 'ORIGIN', 'ORIGIN_CITY_NAME', 'CANCELLED') \\\n",
    "    .orderBy(col('FL_DATE').desc())\n",
    "res_df.show()\n",
    "               "
   ]
  },
  {
   "cell_type": "code",
   "execution_count": 18,
   "id": "bcea02b8-e4eb-4357-8d3d-2d7af74857f8",
   "metadata": {},
   "outputs": [
    {
     "name": "stdout",
     "output_type": "stream",
     "text": [
      "+----------+------+--------------------+\n",
      "|OP_CARRIER|ORIGIN|NUM_CANCELLED_FLIGHT|\n",
      "+----------+------+--------------------+\n",
      "|        AA|   ABQ|                   4|\n",
      "|        AA|   ALB|                   6|\n",
      "|        AA|   AMA|                   2|\n",
      "|        AA|   ATL|                  30|\n",
      "|        AA|   AUS|                  25|\n",
      "|        AA|   BDL|                  33|\n",
      "|        AA|   BHM|                   4|\n",
      "|        AA|   BNA|                  19|\n",
      "|        AA|   BOS|                 198|\n",
      "|        AA|   BUF|                   3|\n",
      "|        AA|   BUR|                   1|\n",
      "|        AA|   BWI|                  15|\n",
      "|        AA|   CLE|                   9|\n",
      "|        AA|   CLT|                  18|\n",
      "|        AA|   CMH|                   4|\n",
      "|        AA|   COS|                   8|\n",
      "|        AA|   CVG|                   5|\n",
      "|        AA|   DAY|                   1|\n",
      "|        AA|   DCA|                 112|\n",
      "|        AA|   DEN|                  18|\n",
      "+----------+------+--------------------+\n",
      "only showing top 20 rows\n",
      "\n"
     ]
    }
   ],
   "source": [
    "agg_df = flight_time_df\\\n",
    "        .filter(col('CANCELLED') ==1)\\\n",
    "        .groupBy(col('OP_CARRIER'),col('ORIGIN')) \\\n",
    "        .agg(\n",
    "            f.count('*').alias('NUM_CANCELLED_FLIGHT')\n",
    "        ) \\\n",
    "        .orderBy(col('OP_CARRIER'),col('ORIGIN'))\n",
    "agg_df.show()"
   ]
  },
  {
   "cell_type": "code",
   "execution_count": null,
   "id": "a51bda58-a855-49c5-bc61-02dd2dc5d399",
   "metadata": {},
   "outputs": [],
   "source": []
  }
 ],
 "metadata": {
  "kernelspec": {
   "display_name": "Python 3 (ipykernel)",
   "language": "python",
   "name": "python3"
  },
  "language_info": {
   "codemirror_mode": {
    "name": "ipython",
    "version": 3
   },
   "file_extension": ".py",
   "mimetype": "text/x-python",
   "name": "python",
   "nbconvert_exporter": "python",
   "pygments_lexer": "ipython3",
   "version": "3.12.7"
  }
 },
 "nbformat": 4,
 "nbformat_minor": 5
}
