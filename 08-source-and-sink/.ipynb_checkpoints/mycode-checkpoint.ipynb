{
 "cells": [
  {
   "cell_type": "code",
   "execution_count": 1,
   "id": "a0883598-4a12-420f-8274-a22c32bd8683",
   "metadata": {},
   "outputs": [],
   "source": [
    "import os\n",
    "from pyspark.sql import SparkSession\n",
    "from pyspark.sql.functions import spark_partition_id\n",
    "import util.config as conf\n",
    "from util.logger import Log4j"
   ]
  },
  {
   "cell_type": "code",
   "execution_count": 2,
   "id": "3c0c669e-fb9e-4021-97a8-6b9f2ccc2d64",
   "metadata": {},
   "outputs": [
    {
     "ename": "SyntaxError",
     "evalue": "unexpected character after line continuation character (3818405582.py, line 2)",
     "output_type": "error",
     "traceback": [
      "\u001b[0;36m  Cell \u001b[0;32mIn[2], line 2\u001b[0;36m\u001b[0m\n\u001b[0;31m    spark = SparkSession.builder \\\u001b[0m\n\u001b[0m                                  ^\u001b[0m\n\u001b[0;31mSyntaxError\u001b[0m\u001b[0;31m:\u001b[0m unexpected character after line continuation character\n"
     ]
    }
   ],
   "source": [
    "conf = conf.get_spark_conf()\n",
    "spark = SparkSession.builder \\\n",
    "        .config(conf=spark_conf) \\\n",
    "        .getOrCreate()\n",
    "flight_time_df = spark.read.parquet(\"/data/source-and-sink/flight-time.parquet\")\n",
    "log = Log4j(spark)\n",
    "log.info(f\"Num Partitions before: {flight_time_df.rdd.getNumPartitions()}\")"
   ]
  },
  {
   "cell_type": "code",
   "execution_count": null,
   "id": "23df70b6-ba4f-4082-9386-2833279fc954",
   "metadata": {},
   "outputs": [],
   "source": []
  }
 ],
 "metadata": {
  "kernelspec": {
   "display_name": "Python 3 (ipykernel)",
   "language": "python",
   "name": "python3"
  },
  "language_info": {
   "codemirror_mode": {
    "name": "ipython",
    "version": 3
   },
   "file_extension": ".py",
   "mimetype": "text/x-python",
   "name": "python",
   "nbconvert_exporter": "python",
   "pygments_lexer": "ipython3",
   "version": "3.12.7"
  }
 },
 "nbformat": 4,
 "nbformat_minor": 5
}
