{
 "cells": [
  {
   "cell_type": "code",
   "execution_count": 6,
   "id": "18af34e5-034a-4e91-b4d6-1cfaad67ef42",
   "metadata": {},
   "outputs": [],
   "source": [
    "import os\n",
    "import re\n",
    "from pyspark.sql import SparkSession\n",
    "from pyspark.sql import functions\n",
    "from pyspark.sql.functions import udf,expr\n",
    "from pyspark.sql.types import StringType\n",
    "import util.config as conf\n",
    "from util.logger import Log4j"
   ]
  },
  {
   "cell_type": "code",
   "execution_count": 7,
   "id": "53ea0c24-5000-4c29-b763-0561f144ffcc",
   "metadata": {},
   "outputs": [
    {
     "name": "stderr",
     "output_type": "stream",
     "text": [
      "24/10/30 14:45:45 WARN SparkSession: Using an existing Spark session; only runtime SQL configurations will take effect.\n"
     ]
    },
    {
     "name": "stdout",
     "output_type": "stream",
     "text": [
      "util_dir: /spark/07-udf/util\n"
     ]
    }
   ],
   "source": [
    "spark_conf = conf.get_spark_conf()\n",
    "spark = SparkSession.builder.config(conf = spark_conf).getOrCreate()\n",
    "log = Log4j(spark)\n",
    "survey_df = spark.read \\\n",
    "            .option(\"header\",\"true\") \\\n",
    "            .option(\"inferSchema\",\"true\") \\\n",
    "            .csv(\"/data/udf/survey.csv\")\n"
   ]
  },
  {
   "cell_type": "code",
   "execution_count": 8,
   "id": "fc68bbdc-770f-4b6e-9b0d-3b3ab4697e15",
   "metadata": {},
   "outputs": [
    {
     "name": "stdout",
     "output_type": "stream",
     "text": [
      "+-------------------+---+------+--------------+-----+-------------+--------------+---------+--------------+--------------+-----------+------------+----------+------------+----------------+----------+----------+------------------+-------------------------+-----------------------+------------+------------+-----------------------+---------------------+------------------+---------------+--------------------+\n",
      "|          Timestamp|Age|Gender|       Country|state|self_employed|family_history|treatment|work_interfere|  no_employees|remote_work|tech_company|  benefits|care_options|wellness_program| seek_help| anonymity|             leave|mental_health_consequence|phys_health_consequence|   coworkers|  supervisor|mental_health_interview|phys_health_interview|mental_vs_physical|obs_consequence|            comments|\n",
      "+-------------------+---+------+--------------+-----+-------------+--------------+---------+--------------+--------------+-----------+------------+----------+------------+----------------+----------+----------+------------------+-------------------------+-----------------------+------------+------------+-----------------------+---------------------+------------------+---------------+--------------------+\n",
      "|2014-08-27 11:29:31| 37|Female| United States|   IL|           NA|            No|      Yes|         Often|          6-25|         No|         Yes|       Yes|    Not sure|              No|       Yes|       Yes|     Somewhat easy|                       No|                     No|Some of them|         Yes|                     No|                Maybe|               Yes|             No|                  NA|\n",
      "|2014-08-27 11:29:37| 44|     M| United States|   IN|           NA|            No|       No|        Rarely|More than 1000|         No|          No|Don't know|          No|      Don't know|Don't know|Don't know|        Don't know|                    Maybe|                     No|          No|          No|                     No|                   No|        Don't know|             No|                  NA|\n",
      "|2014-08-27 11:29:44| 32|  Male|        Canada|   NA|           NA|            No|       No|        Rarely|          6-25|         No|         Yes|        No|          No|              No|        No|Don't know|Somewhat difficult|                       No|                     No|         Yes|         Yes|                    Yes|                  Yes|                No|             No|                  NA|\n",
      "|2014-08-27 11:29:46| 31|  Male|United Kingdom|   NA|           NA|           Yes|      Yes|         Often|        26-100|         No|         Yes|        No|         Yes|              No|        No|        No|Somewhat difficult|                      Yes|                    Yes|Some of them|          No|                  Maybe|                Maybe|                No|            Yes|                  NA|\n",
      "|2014-08-27 11:30:22| 31|  Male| United States|   TX|           NA|            No|       No|         Never|       100-500|        Yes|         Yes|       Yes|          No|      Don't know|Don't know|Don't know|        Don't know|                       No|                     No|Some of them|         Yes|                    Yes|                  Yes|        Don't know|             No|                  NA|\n",
      "|2014-08-27 11:31:22| 33|  Male| United States|   TN|           NA|           Yes|       No|     Sometimes|          6-25|         No|         Yes|       Yes|    Not sure|              No|Don't know|Don't know|        Don't know|                       No|                     No|         Yes|         Yes|                     No|                Maybe|        Don't know|             No|                  NA|\n",
      "|2014-08-27 11:31:50| 35|Female| United States|   MI|           NA|           Yes|      Yes|     Sometimes|           1-5|        Yes|         Yes|        No|          No|              No|        No|        No|Somewhat difficult|                    Maybe|                  Maybe|Some of them|          No|                     No|                   No|        Don't know|             No|                  NA|\n",
      "|2014-08-27 11:32:05| 39|     M|        Canada|   NA|           NA|            No|       No|         Never|           1-5|        Yes|         Yes|        No|         Yes|              No|        No|       Yes|        Don't know|                       No|                     No|          No|          No|                     No|                   No|                No|             No|                  NA|\n",
      "|2014-08-27 11:32:39| 42|Female| United States|   IL|           NA|           Yes|      Yes|     Sometimes|       100-500|         No|         Yes|       Yes|         Yes|              No|        No|        No|    Very difficult|                    Maybe|                     No|         Yes|         Yes|                     No|                Maybe|                No|             No|                  NA|\n",
      "|2014-08-27 11:32:43| 23|  Male|        Canada|   NA|           NA|            No|       No|         Never|        26-100|         No|         Yes|Don't know|          No|      Don't know|Don't know|Don't know|        Don't know|                       No|                     No|         Yes|         Yes|                  Maybe|                Maybe|               Yes|             No|                  NA|\n",
      "|2014-08-27 11:32:44| 31|  Male| United States|   OH|           NA|            No|      Yes|     Sometimes|          6-25|        Yes|         Yes|Don't know|          No|              No|        No|Don't know|        Don't know|                       No|                     No|Some of them|         Yes|                     No|                   No|        Don't know|             No|                  NA|\n",
      "|2014-08-27 11:32:49| 29|  male|      Bulgaria|   NA|           NA|            No|       No|         Never|       100-500|        Yes|         Yes|Don't know|    Not sure|              No|        No|Don't know|        Don't know|                       No|                     No|         Yes|         Yes|                    Yes|                  Yes|        Don't know|             No|                  NA|\n",
      "|2014-08-27 11:33:23| 42|female| United States|   CA|           NA|           Yes|      Yes|     Sometimes|        26-100|         No|          No|       Yes|         Yes|              No|        No|Don't know|Somewhat difficult|                      Yes|                    Yes|         Yes|         Yes|                  Maybe|                Maybe|                No|            Yes|                  NA|\n",
      "|2014-08-27 11:33:26| 36|  Male| United States|   CT|           NA|           Yes|       No|         Never|      500-1000|         No|         Yes|Don't know|    Not sure|              No|Don't know|Don't know|        Don't know|                       No|                     No|         Yes|         Yes|                     No|                   No|        Don't know|             No|I'm not on my com...|\n",
      "|2014-08-27 11:33:57| 27|  Male|        Canada|   NA|           NA|            No|       No|         Never|          6-25|         No|         Yes|Don't know|    Not sure|      Don't know|Don't know|Don't know|     Somewhat easy|                       No|                     No|Some of them|Some of them|                  Maybe|                  Yes|               Yes|             No|                  NA|\n",
      "|2014-08-27 11:34:00| 29|female| United States|   IL|           NA|           Yes|      Yes|        Rarely|        26-100|         No|         Yes|       Yes|    Not sure|              No|        No|Don't know|     Somewhat easy|                       No|                     No|         Yes|Some of them|                  Maybe|                Maybe|        Don't know|             No|I have chronic lo...|\n",
      "|2014-08-27 11:34:20| 23|  Male|United Kingdom|   NA|           NA|            No|      Yes|     Sometimes|        26-100|        Yes|         Yes|Don't know|          No|      Don't know|Don't know|Don't know|         Very easy|                    Maybe|                     No|Some of them|          No|                  Maybe|                Maybe|                No|             No|My company does p...|\n",
      "|2014-08-27 11:34:37| 32|  Male| United States|   TN|           NA|            No|      Yes|     Sometimes|          6-25|         No|         Yes|       Yes|         Yes|              No|Don't know|Don't know|        Don't know|                    Maybe|                     No|Some of them|         Yes|                     No|                   No|                No|             No|                  NA|\n",
      "|2014-08-27 11:34:53| 46|  male| United States|   MD|          Yes|           Yes|       No|     Sometimes|           1-5|        Yes|         Yes|       Yes|    Not sure|             Yes|Don't know|       Yes|         Very easy|                       No|                     No|         Yes|         Yes|                     No|                  Yes|               Yes|            Yes|                  NA|\n",
      "|2014-08-27 11:35:08| 36|  Male|        France|   NA|          Yes|           Yes|       No|            NA|          6-25|        Yes|         Yes|        No|          No|             Yes|        No|       Yes|     Somewhat easy|                       No|                     No|Some of them|Some of them|                  Maybe|                Maybe|        Don't know|             No|                  NA|\n",
      "+-------------------+---+------+--------------+-----+-------------+--------------+---------+--------------+--------------+-----------+------------+----------+------------+----------------+----------+----------+------------------+-------------------------+-----------------------+------------+------------+-----------------------+---------------------+------------------+---------------+--------------------+\n",
      "only showing top 20 rows\n",
      "\n"
     ]
    }
   ],
   "source": [
    "survey_df.show()"
   ]
  },
  {
   "cell_type": "code",
   "execution_count": 9,
   "id": "08f10f2f-2b9d-4af5-bb40-e9d5e7689d17",
   "metadata": {},
   "outputs": [],
   "source": [
    "def parse_gender(gender):\n",
    "    male_pattern = r\"^m$|^male$|^man$\"\n",
    "    female_pattern = r\"^f$|^female$|^woman$\"\n",
    "    if re.search(male_pattern, gender.lower()):\n",
    "        return \"Male\"\n",
    "    if re.search(female_pattern, gender.lower()):\n",
    "        return \"Female\"\n",
    "    return \"Unknown\""
   ]
  },
  {
   "cell_type": "code",
   "execution_count": 14,
   "id": "10613e45-8f7b-4e37-9c93-f3dd5e2bcbef",
   "metadata": {},
   "outputs": [],
   "source": [
    "parse_gender_udf = udf(parse_gender,StringType())\n",
    "log.info(\"Catalog Entry: \")\n",
    "employee_df = survey_df.withColumn(\"Gender\", parse_gender_udf(\"Gender\")) \\\n",
    "        .select(\"Age\", \"Gender\", \"Country\", \"state\", \"no_employees\") "
   ]
  },
  {
   "cell_type": "code",
   "execution_count": 16,
   "id": "68ef537a-0085-4342-9354-812c7033612c",
   "metadata": {},
   "outputs": [
    {
     "name": "stdout",
     "output_type": "stream",
     "text": [
      "+---+------+--------------+-----+--------------+\n",
      "|Age|Gender|       Country|state|  no_employees|\n",
      "+---+------+--------------+-----+--------------+\n",
      "| 35|Female| United States|   MI|           1-5|\n",
      "| 31|  Male| United States|   TX|       100-500|\n",
      "| 31|  Male|United Kingdom|   NA|        26-100|\n",
      "| 36|  Male| United States|   CT|      500-1000|\n",
      "| 37|Female| United States|   IL|          6-25|\n",
      "| 44|  Male| United States|   IN|More than 1000|\n",
      "+---+------+--------------+-----+--------------+\n",
      "\n"
     ]
    }
   ],
   "source": [
    "employee_df.dropDuplicates([\"no_employees\"]).show()"
   ]
  },
  {
   "cell_type": "code",
   "execution_count": 24,
   "id": "2d1ae92e-2bf1-4291-b9fb-007e6873a98c",
   "metadata": {},
   "outputs": [],
   "source": [
    "from pyspark.sql.types import BooleanType, StringType\n",
    "from pyspark.sql.functions import col\n",
    "def check_employees(no_employees):\n",
    "    return no_employees in [\"500-1000\", \"More than 1000\"]\n",
    "\n",
    "# Khai báo UDF với BooleanType\n",
    "check_employees_udf = udf(check_employees, BooleanType())"
   ]
  },
  {
   "cell_type": "code",
   "execution_count": 25,
   "id": "b2921635-047b-4b6d-994e-3fdb8c537e79",
   "metadata": {},
   "outputs": [
    {
     "name": "stdout",
     "output_type": "stream",
     "text": [
      "+---+-------+--------------+-----+--------------+\n",
      "|Age| Gender|       Country|state|  no_employees|\n",
      "+---+-------+--------------+-----+--------------+\n",
      "| 44|   Male| United States|   IN|More than 1000|\n",
      "| 36|   Male| United States|   CT|      500-1000|\n",
      "| 41|   Male| United States|   IA|More than 1000|\n",
      "| 35|   Male| United States|   TN|More than 1000|\n",
      "| 30|   Male|United Kingdom|   NA|      500-1000|\n",
      "| 35|   Male| United States|   TX|More than 1000|\n",
      "| 35|   Male| United States|   MI|More than 1000|\n",
      "| 44|   Male| United States|   IA|More than 1000|\n",
      "| 40|   Male| United States|   CA|More than 1000|\n",
      "| 23|Unknown| United States|   MA|More than 1000|\n",
      "| 33|   Male| United States|   CA|More than 1000|\n",
      "| 25|   Male| United States|   WA|More than 1000|\n",
      "| 33|   Male| United States|   CA|More than 1000|\n",
      "| 34| Female| United States|   OR|      500-1000|\n",
      "| 32|   Male| United States|   IL|      500-1000|\n",
      "| 31|   Male| United States|   NY|      500-1000|\n",
      "| 29|   Male| United States|   NY|More than 1000|\n",
      "| 22|   Male| United States|   NY|      500-1000|\n",
      "| 28|   Male| United States|   TX|More than 1000|\n",
      "| 29|   Male| United States|   GA|More than 1000|\n",
      "+---+-------+--------------+-----+--------------+\n",
      "only showing top 20 rows\n",
      "\n"
     ]
    }
   ],
   "source": [
    "employee_df.filter(check_employees_udf(col('no_employees'))).show()"
   ]
  },
  {
   "cell_type": "code",
   "execution_count": 26,
   "id": "e606d63f-869e-423c-ba85-9607b7162f1c",
   "metadata": {},
   "outputs": [],
   "source": [
    "spark.stop()"
   ]
  },
  {
   "cell_type": "code",
   "execution_count": null,
   "id": "ecdbb8dd-ed2a-4d86-9769-3a9b8622d092",
   "metadata": {},
   "outputs": [],
   "source": []
  }
 ],
 "metadata": {
  "kernelspec": {
   "display_name": "Python 3 (ipykernel)",
   "language": "python",
   "name": "python3"
  },
  "language_info": {
   "codemirror_mode": {
    "name": "ipython",
    "version": 3
   },
   "file_extension": ".py",
   "mimetype": "text/x-python",
   "name": "python",
   "nbconvert_exporter": "python",
   "pygments_lexer": "ipython3",
   "version": "3.12.7"
  }
 },
 "nbformat": 4,
 "nbformat_minor": 5
}
