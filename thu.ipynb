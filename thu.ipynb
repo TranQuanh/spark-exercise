{
 "cells": [
  {
   "cell_type": "code",
   "execution_count": null,
   "metadata": {
    "vscode": {
     "languageId": "plaintext"
    }
   },
   "outputs": [],
   "source": [
    "from pyspark.sql import *\n",
    "\n",
    "if __name__ == \"__main__\":\n",
    "    spark = SparkSession.builder \\\n",
    "        .appName(\"HelloSpark\") \\\n",
    "        .master(\"spark://spark:7077\") \\\n",
    "        .getOrCreate()\n",
    "\n",
    "    print(\"Start HelloSpark\")\n",
    "\n",
    "    data_list = [(\"Phuong\", 31),\n",
    "                 (\"Huy\", 35),\n",
    "                 (\"Bee\", 25)]\n"
   ]
  }
 ],
 "metadata": {
  "language_info": {
   "name": "python"
  }
 },
 "nbformat": 4,
 "nbformat_minor": 2
}
